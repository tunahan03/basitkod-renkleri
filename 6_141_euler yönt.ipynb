{
 "cells": [
  {
   "cell_type": "code",
   "execution_count": null,
   "id": "7990b533-9e4f-4e3a-aaa0-61c30469921d",
   "metadata": {},
   "outputs": [],
   "source": [
    "# euler yöntemi\n",
    "x0=eval(input(\"x(0): \")); y0=eval8input(\"y(0): \"))\n",
    "h=eval(input(\" adım değeri: \")); n=int(input(\"değer sayısı: \"))\n",
    "x=x0; y=y0; print(\"\\nSonuçlar (x,y)\"); print(\"%f\\n%f\"%(x,y))\n",
    "for i in range(n):\n",
    "    y+=h*(-y/(2+x"
   ]
  }
 ],
 "metadata": {
  "kernelspec": {
   "display_name": "Python 3 (ipykernel)",
   "language": "python",
   "name": "python3"
  },
  "language_info": {
   "codemirror_mode": {
    "name": "ipython",
    "version": 3
   },
   "file_extension": ".py",
   "mimetype": "text/x-python",
   "name": "python",
   "nbconvert_exporter": "python",
   "pygments_lexer": "ipython3",
   "version": "3.9.7"
  }
 },
 "nbformat": 4,
 "nbformat_minor": 5
}
