{
 "cells": [
  {
   "cell_type": "code",
   "execution_count": 3,
   "id": "5b709ecb-1fe6-42ca-891c-63d548024511",
   "metadata": {},
   "outputs": [
    {
     "name": "stdin",
     "output_type": "stream",
     "text": [
      "tamsayı: 32\n"
     ]
    },
    {
     "name": "stdout",
     "output_type": "stream",
     "text": [
      "30\n"
     ]
    }
   ],
   "source": [
    "# 5'in katı\n",
    "import math\n",
    "s=eval(input(\"tamsayı:\")); print(math.floor(math.floor((s*2)/10)*5));"
   ]
  },
  {
   "cell_type": "code",
   "execution_count": null,
   "id": "cc51cf30-fdde-4548-99d1-e9f97c336aee",
   "metadata": {},
   "outputs": [],
   "source": []
  }
 ],
 "metadata": {
  "kernelspec": {
   "display_name": "Python 3 (ipykernel)",
   "language": "python",
   "name": "python3"
  },
  "language_info": {
   "codemirror_mode": {
    "name": "ipython",
    "version": 3
   },
   "file_extension": ".py",
   "mimetype": "text/x-python",
   "name": "python",
   "nbconvert_exporter": "python",
   "pygments_lexer": "ipython3",
   "version": "3.9.7"
  }
 },
 "nbformat": 4,
 "nbformat_minor": 5
}
