{
 "cells": [
  {
   "cell_type": "code",
   "execution_count": null,
   "id": "f702a608-0d4a-4ce3-8fac-52c3b40687ad",
   "metadata": {},
   "outputs": [],
   "source": [
    "# Tamsayı testi\n",
    "s=eval(input(\"bir sayı gir:\"))\n"
   ]
  }
 ],
 "metadata": {
  "kernelspec": {
   "display_name": "Python 3 (ipykernel)",
   "language": "python",
   "name": "python3"
  },
  "language_info": {
   "codemirror_mode": {
    "name": "ipython",
    "version": 3
   },
   "file_extension": ".py",
   "mimetype": "text/x-python",
   "name": "python",
   "nbconvert_exporter": "python",
   "pygments_lexer": "ipython3",
   "version": "3.9.7"
  }
 },
 "nbformat": 4,
 "nbformat_minor": 5
}
